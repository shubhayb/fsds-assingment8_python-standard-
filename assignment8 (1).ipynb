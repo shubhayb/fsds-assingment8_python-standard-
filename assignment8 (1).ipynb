{
 "cells": [
  {
   "cell_type": "markdown",
   "id": "1be64145-bdb4-4825-b4c1-6319b4ac1452",
   "metadata": {},
   "source": [
    "1. Is the Python Standard Library included with PyInputPlus?\n",
    "\n",
    "Ans: PyInputPlus is not a part of the Python Standard Library, we must install it separately using Pip."
   ]
  },
  {
   "cell_type": "markdown",
   "id": "d4f251df-931e-4119-926c-a8ead3c1893a",
   "metadata": {},
   "source": [
    "2. Why is PyInputPlus commonly imported with import pyinputplus as pypi?\n",
    "\n",
    "Ans: You can import the module with import pyinputplus as pyip so that you can enter a shorter name when calling the module’s functions\n",
    "\n"
   ]
  },
  {
   "cell_type": "markdown",
   "id": "e4412af3-5098-453e-b9d6-87ceaac797e8",
   "metadata": {},
   "source": [
    "3. How do you distinguish between inputInt() and inputFloat()?\n",
    "\n",
    "Ans:  The difference is in the data-type when you use the first one the program expects an integer value as input but in the latter it expects a float value i.e number containing a decima"
   ]
  },
  {
   "cell_type": "markdown",
   "id": "40f7ff54-c6b2-40ca-aa1d-53ae2beb6299",
   "metadata": {},
   "source": [
    "4. Using PyInputPlus, how do you ensure that the user enters a whole number between 0 and 99?\n",
    "\n",
    "Ans: By using pyip.inputint(min=0, max=99)"
   ]
  },
  {
   "cell_type": "markdown",
   "id": "49a44e54-ad03-4924-892a-7caff71d321c",
   "metadata": {},
   "source": [
    "5. What is transferred to the keyword arguments allowRegexes and blockRegexes?\n",
    "\n",
    "\n",
    "Ans: A list of regex strings that are either explicitly allowed or denied\n",
    "\n"
   ]
  },
  {
   "cell_type": "markdown",
   "id": "4bdda58f-8083-4d44-b29d-74efe9043989",
   "metadata": {},
   "source": [
    "6. If a blank input is entered three times, what does inputStr(limit=3) do?\n",
    "\n",
    "Ans: The function will raise RetryLimitException."
   ]
  },
  {
   "cell_type": "markdown",
   "id": "9fbdfa84-670a-43ca-ad24-b413299d26c6",
   "metadata": {},
   "source": [
    "7. If blank input is entered three times, what does inputStr(limit=3, default='hello') do?\n",
    "\n",
    "Ans: . The function returns the value 'hello'\n",
    "\n"
   ]
  },
  {
   "cell_type": "code",
   "execution_count": null,
   "id": "469c53a0-c2e3-4561-a63a-e81c623ee385",
   "metadata": {},
   "outputs": [],
   "source": []
  }
 ],
 "metadata": {
  "kernelspec": {
   "display_name": "Python 3 (ipykernel)",
   "language": "python",
   "name": "python3"
  },
  "language_info": {
   "codemirror_mode": {
    "name": "ipython",
    "version": 3
   },
   "file_extension": ".py",
   "mimetype": "text/x-python",
   "name": "python",
   "nbconvert_exporter": "python",
   "pygments_lexer": "ipython3",
   "version": "3.10.6"
  }
 },
 "nbformat": 4,
 "nbformat_minor": 5
}
